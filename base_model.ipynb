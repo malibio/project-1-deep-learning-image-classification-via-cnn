{
  "cells": [
    {
      "cell_type": "markdown",
      "id": "d279c439",
      "metadata": {},
      "source": [
        "### Import the CNN Util and libraries needed\n",
        "We have the util to make it easy to create and try new variations of the CNN model and be consistent with how we're analyzing and evaluating it."
      ]
    },
    {
      "cell_type": "code",
      "execution_count": null,
      "id": "5abe186c",
      "metadata": {
        "id": "5abe186c"
      },
      "outputs": [],
      "source": [
        "# Import necessary libraries\n",
        "import cnn_utils\n",
        "from keras import layers, models"
      ]
    },
    {
      "cell_type": "markdown",
      "id": "43599bbb",
      "metadata": {
        "id": "43599bbb"
      },
      "source": [
        "### Load the data"
      ]
    },
    {
      "cell_type": "code",
      "execution_count": null,
      "id": "a77831e4",
      "metadata": {
        "colab": {
          "base_uri": "https://localhost:8080/"
        },
        "id": "a77831e4",
        "outputId": "bc8992fe-a6cd-42c3-dca0-909d6150da8e"
      },
      "outputs": [],
      "source": [
        "data_dict = cnn_utils.load_cifar10_from_tar()"
      ]
    },
    {
      "cell_type": "markdown",
      "id": "05ba80d8",
      "metadata": {
        "id": "05ba80d8"
      },
      "source": [
        "### Preporcess the data"
      ]
    },
    {
      "cell_type": "code",
      "execution_count": null,
      "id": "1a5c3162",
      "metadata": {
        "colab": {
          "base_uri": "https://localhost:8080/"
        },
        "id": "1a5c3162",
        "outputId": "b0182a1e-0f19-4930-b507-7d02aad78d4f"
      },
      "outputs": [],
      "source": [
        "data = cnn_utils.preprocess_data(data_dict)\n"
      ]
    },
    {
      "cell_type": "markdown",
      "id": "69f8bb96",
      "metadata": {
        "id": "69f8bb96"
      },
      "source": [
        "### Let's do a quick visualization of sample images (to also ensure we still have the correct shape)"
      ]
    },
    {
      "cell_type": "code",
      "execution_count": null,
      "id": "3efbcbda",
      "metadata": {
        "colab": {
          "base_uri": "https://localhost:8080/",
          "height": 878
        },
        "id": "3efbcbda",
        "outputId": "a1b61866-3bcd-4b11-c969-3dba1624bd36"
      },
      "outputs": [],
      "source": [
        "cnn_utils.visualize_data_samples(data)\n"
      ]
    },
    {
      "cell_type": "markdown",
      "id": "dee7839c",
      "metadata": {
        "id": "dee7839c"
      },
      "source": [
        "### Let's define our CNN model (architecture)\n",
        "Simple CNN baseline for comparison\n",
        "Structure:\n",
        "- 2 convolutional blocks (32→64 filters)\n",
        "- Basic pooling and dropout\n",
        "- Small dense layer (128 neurons)"
      ]
    },
    {
      "cell_type": "code",
      "execution_count": null,
      "id": "bd67c1c4",
      "metadata": {
        "colab": {
          "base_uri": "https://localhost:8080/",
          "height": 1000
        },
        "id": "bd67c1c4",
        "outputId": "c408ca46-effe-41ca-d13e-fd497989b169"
      },
      "outputs": [],
      "source": [
        "# Define the CNN model architecture\n",
        "def create_cnn_model(num_classes=10):\n",
        "    \"\"\"Create a simpler CNN model as a foundation\"\"\"\n",
        "    model = models.Sequential()\n",
        "    \n",
        "    # First convolutional block\n",
        "    model.add(layers.Conv2D(32, (3, 3), padding='same', activation='relu'))\n",
        "    model.add(layers.MaxPooling2D((2, 2)))\n",
        "    \n",
        "    # Second convolutional block\n",
        "    model.add(layers.Conv2D(64, (3, 3), padding='same', activation='relu'))\n",
        "    model.add(layers.MaxPooling2D((2, 2)))\n",
        "    \n",
        "    # Flatten and fully connected layers\n",
        "    model.add(layers.Flatten())\n",
        "    model.add(layers.Dense(128, activation='relu'))\n",
        "    model.add(layers.Dropout(0.5))\n",
        "    model.add(layers.Dense(num_classes, activation='softmax'))\n",
        "    \n",
        "    return model\n"
      ]
    },
    {
      "cell_type": "code",
      "execution_count": null,
      "id": "424ab9d5",
      "metadata": {},
      "outputs": [],
      "source": [
        "model = create_cnn_model()\n",
        "model.compile(optimizer='adam', loss='categorical_crossentropy', metrics=['accuracy'])\n",
        "cnn_utils.print_model_summary(model)\n"
      ]
    },
    {
      "cell_type": "markdown",
      "id": "e14f7818",
      "metadata": {},
      "source": [
        "### Now let's train the model"
      ]
    },
    {
      "cell_type": "code",
      "execution_count": null,
      "id": "78074c37",
      "metadata": {
        "colab": {
          "base_uri": "https://localhost:8080/"
        },
        "id": "78074c37",
        "outputId": "fea153e9-e4bd-4d8c-bb70-b4ee9f3380fb"
      },
      "outputs": [],
      "source": [
        "history = cnn_utils.train_model(model, data, augmentation=None)\n"
      ]
    },
    {
      "cell_type": "markdown",
      "id": "01069617",
      "metadata": {},
      "source": [
        "### Let's show the evaluation result"
      ]
    },
    {
      "cell_type": "code",
      "execution_count": null,
      "id": "34a2a80e",
      "metadata": {},
      "outputs": [],
      "source": [
        "cnn_utils.evaluate_model(model, data, history)"
      ]
    }
  ],
  "metadata": {
    "accelerator": "GPU",
    "colab": {
      "gpuType": "L4",
      "machine_shape": "hm",
      "provenance": []
    },
    "kernelspec": {
      "display_name": "base",
      "language": "python",
      "name": "python3"
    },
    "language_info": {
      "codemirror_mode": {
        "name": "ipython",
        "version": 3
      },
      "file_extension": ".py",
      "mimetype": "text/x-python",
      "name": "python",
      "nbconvert_exporter": "python",
      "pygments_lexer": "ipython3",
      "version": "3.12.2"
    }
  },
  "nbformat": 4,
  "nbformat_minor": 5
}
