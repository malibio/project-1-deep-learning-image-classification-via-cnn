{
 "cells": [
  {
   "cell_type": "code",
   "execution_count": 1,
   "id": "b8c03696",
   "metadata": {},
   "outputs": [
    {
     "name": "stdout",
     "output_type": "stream",
     "text": [
      "* Running on local URL:  http://127.0.0.1:7860\n",
      "* Running on public URL: https://eb538640185a20087b.gradio.live\n",
      "\n",
      "This share link expires in 1 week. For free permanent hosting and GPU upgrades, run `gradio deploy` from the terminal in the working directory to deploy to Hugging Face Spaces (https://huggingface.co/spaces)\n"
     ]
    },
    {
     "data": {
      "text/html": [
       "<div><iframe src=\"https://eb538640185a20087b.gradio.live\" width=\"100%\" height=\"500\" allow=\"autoplay; camera; microphone; clipboard-read; clipboard-write;\" frameborder=\"0\" allowfullscreen></iframe></div>"
      ],
      "text/plain": [
       "<IPython.core.display.HTML object>"
      ]
     },
     "metadata": {},
     "output_type": "display_data"
    },
    {
     "data": {
      "text/plain": []
     },
     "execution_count": 1,
     "metadata": {},
     "output_type": "execute_result"
    }
   ],
   "source": [
    "import gradio as gr\n",
    "import numpy as np\n",
    "from tensorflow.keras.models import load_model\n",
    "from tensorflow.keras.preprocessing.image import img_to_array\n",
    "from PIL import Image\n",
    "# Load your model\n",
    "model = load_model(r\"C:\\Users\\Zahinos\\Desktop\\AI\\Week3\\proyect\\project-1-deep-learning-image-classification-via-cnn\\vgg_style_with_batchnorm.keras\")\n",
    "\n",
    "# Define class labels\n",
    "class_names = ['airplane', 'automobile', 'bird', 'cat', 'deer', 'dog', 'frog', 'horse', 'ship', 'truck']  \n",
    "def classify_image(img):\n",
    "    try:\n",
    "        img = img.convert(\"RGB\")                 \n",
    "        img = img.resize((32, 32))               \n",
    "        img_array = img_to_array(img) / 255.0    \n",
    "        img_array = np.expand_dims(img_array, axis=0)\n",
    "        predictions = model.predict(img_array)[0]\n",
    "        confidences = {class_names[i]: float(predictions[i]) for i in range(len(class_names))}\n",
    "        return confidences\n",
    "    except Exception as e:\n",
    "        return str(e)\n",
    "# Gradio interface\n",
    "demo = gr.Interface(\n",
    "    fn=classify_image,\n",
    "    inputs=gr.Image(type=\"pil\"),\n",
    "    outputs=gr.Label(num_top_classes=3),\n",
    "    title=\"Animal Classifier\",\n",
    "    description=\"Upload an image of an animal (e.g., CIFAR-10 class) and get the predicted class.\"\n",
    ")\n",
    "demo.launch(share=True)"
   ]
  }
 ],
 "metadata": {
  "kernelspec": {
   "display_name": "base",
   "language": "python",
   "name": "python3"
  },
  "language_info": {
   "codemirror_mode": {
    "name": "ipython",
    "version": 3
   },
   "file_extension": ".py",
   "mimetype": "text/x-python",
   "name": "python",
   "nbconvert_exporter": "python",
   "pygments_lexer": "ipython3",
   "version": "3.12.7"
  }
 },
 "nbformat": 4,
 "nbformat_minor": 5
}
