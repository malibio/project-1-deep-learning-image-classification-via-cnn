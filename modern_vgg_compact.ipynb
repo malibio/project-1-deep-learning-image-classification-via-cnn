{
  "cells": [
    {
      "cell_type": "markdown",
      "id": "a680d824",
      "metadata": {
        "id": "a680d824"
      },
      "source": [
        "### Make the necessary imports (libraries)"
      ]
    },
    {
      "cell_type": "code",
      "execution_count": null,
      "id": "5abe186c",
      "metadata": {
        "id": "5abe186c"
      },
      "outputs": [],
      "source": [
        "# Import necessary libraries\n",
        "import cnn_utils\n",
        "from keras import layers, models\n",
        "from keras.src.legacy.preprocessing.image import ImageDataGenerator\n"
      ]
    },
    {
      "cell_type": "markdown",
      "id": "9afc96b0",
      "metadata": {},
      "source": [
        "### Load the data"
      ]
    },
    {
      "cell_type": "code",
      "execution_count": null,
      "id": "EEFXQXvssUV1",
      "metadata": {
        "colab": {
          "base_uri": "https://localhost:8080/",
          "height": 52
        },
        "id": "EEFXQXvssUV1",
        "outputId": "d829d2f0-0192-4348-e541-97b9e78a5dc3"
      },
      "outputs": [],
      "source": [
        "data_dict = cnn_utils.load_cifar10_from_tar()"
      ]
    },
    {
      "cell_type": "markdown",
      "id": "05ba80d8",
      "metadata": {
        "id": "05ba80d8"
      },
      "source": [
        "### Preprocess the data"
      ]
    },
    {
      "cell_type": "code",
      "execution_count": null,
      "id": "1a5c3162",
      "metadata": {
        "colab": {
          "base_uri": "https://localhost:8080/"
        },
        "id": "1a5c3162",
        "outputId": "53bf5394-92cb-4f41-f8e0-cea5c9cb71d8"
      },
      "outputs": [],
      "source": [
        "data = cnn_utils.preprocess_data(data_dict)"
      ]
    },
    {
      "cell_type": "markdown",
      "id": "69f8bb96",
      "metadata": {
        "id": "69f8bb96"
      },
      "source": [
        "### Let's do a quick visualization of sample images (to also ensure we still have the correct shape)"
      ]
    },
    {
      "cell_type": "code",
      "execution_count": null,
      "id": "3efbcbda",
      "metadata": {
        "colab": {
          "base_uri": "https://localhost:8080/",
          "height": 877
        },
        "id": "3efbcbda",
        "outputId": "e64cf2b8-ff8a-4d60-d2b4-77848457690f"
      },
      "outputs": [],
      "source": [
        "cnn_utils.visualize_data_samples(data)"
      ]
    },
    {
      "cell_type": "markdown",
      "id": "7cd1b695",
      "metadata": {},
      "source": [
        "### Augmentation of the data\n",
        "Mminimal/conservative augmentation designed to be very safe:\n",
        "- Tiny transformations: Only 5% shifts and 5° rotation (vs typical 10-15%)\n",
        "- Basic flip: Horizontal flip only (doubles dataset safely)"
      ]
    },
    {
      "cell_type": "code",
      "execution_count": null,
      "id": "512ffd7f",
      "metadata": {},
      "outputs": [],
      "source": [
        "def apply_mild_data_augmentation():\n",
        "    \"\"\"Apply very conservative data augmentation\"\"\"\n",
        "    return ImageDataGenerator(\n",
        "        horizontal_flip=True,          # Only horizontal flip\n",
        "        width_shift_range=0.05,        # Very small shifts (5%)\n",
        "        height_shift_range=0.05,       # Very small shifts (5%)\n",
        "        rotation_range=5               # Very small rotation (5 degrees)\n",
        "    )\n",
        "\n",
        "augmentation = apply_mild_data_augmentation()\n",
        "augmentation.fit(data['X_train'])"
      ]
    },
    {
      "cell_type": "markdown",
      "id": "dee7839c",
      "metadata": {
        "id": "dee7839c"
      },
      "source": [
        "### Let's define our CNN model (architect)\n",
        "Modern VGG-style CNN with consistent regularization patterns:\n",
        "\n",
        "- 3 blocks of paired convolutions (32→64→128 filters) following VGG's \"double conv + pool\" pattern\n",
        "- Modern techniques: BatchNormalization and explicit Activation layers (instead of inline activation)\n",
        "- GlobalAveragePooling instead of Flatten (reduces overfitting)\n",
        "- Progressive dropout (0.25→0.25→0.5)\n",
        "- Lightweight classifier (128 neurons vs typical 512+)\n"
      ]
    },
    {
      "cell_type": "code",
      "execution_count": null,
      "id": "bd67c1c4",
      "metadata": {
        "colab": {
          "base_uri": "https://localhost:8080/",
          "height": 1000
        },
        "id": "bd67c1c4",
        "outputId": "3b53f598-797c-4cd4-cab8-fc6253827c11"
      },
      "outputs": [],
      "source": [
        "# Define the CNN model architecture\n",
        "def create_cnn_model(input_shape=(32, 32, 3), num_classes=10):\n",
        "    model = models.Sequential()\n",
        "\n",
        "    # First block - keep successful pattern\n",
        "    model.add(layers.Conv2D(32, (3, 3), padding='same', input_shape=input_shape))\n",
        "    model.add(layers.BatchNormalization())\n",
        "    model.add(layers.Activation('relu'))\n",
        "    model.add(layers.Conv2D(32, (3, 3), padding='same'))\n",
        "    model.add(layers.BatchNormalization())\n",
        "    model.add(layers.Activation('relu'))\n",
        "    model.add(layers.MaxPooling2D((2, 2)))\n",
        "    model.add(layers.Dropout(0.25))  # Slightly lower dropout\n",
        "\n",
        "    # Second block\n",
        "    model.add(layers.Conv2D(64, (3, 3), padding='same'))\n",
        "    model.add(layers.BatchNormalization())\n",
        "    model.add(layers.Activation('relu'))\n",
        "    model.add(layers.Conv2D(64, (3, 3), padding='same'))\n",
        "    model.add(layers.BatchNormalization())\n",
        "    model.add(layers.Activation('relu'))\n",
        "    model.add(layers.MaxPooling2D((2, 2)))\n",
        "    model.add(layers.Dropout(0.25))\n",
        "\n",
        "    # Third block\n",
        "    model.add(layers.Conv2D(128, (3, 3), padding='same'))\n",
        "    model.add(layers.BatchNormalization())\n",
        "    model.add(layers.Activation('relu'))\n",
        "    model.add(layers.Conv2D(128, (3, 3), padding='same'))\n",
        "    model.add(layers.BatchNormalization())\n",
        "    model.add(layers.Activation('relu'))\n",
        "    model.add(layers.MaxPooling2D((2, 2)))\n",
        "    model.add(layers.Dropout(0.5))\n",
        "\n",
        "    # Keep the successful GlobalAveragePooling\n",
        "    model.add(layers.GlobalAveragePooling2D())\n",
        "\n",
        "    # Simplified classifier\n",
        "    model.add(layers.Dense(128))  # Even smaller\n",
        "    model.add(layers.BatchNormalization())\n",
        "    model.add(layers.Activation('relu'))\n",
        "    model.add(layers.Dropout(0.5))  # Lower dropout for stability\n",
        "    model.add(layers.Dense(num_classes, activation='softmax'))\n",
        "\n",
        "    return model"
      ]
    },
    {
      "cell_type": "code",
      "execution_count": null,
      "id": "90257ce0",
      "metadata": {},
      "outputs": [],
      "source": [
        "model = create_cnn_model()\n",
        "model.compile(optimizer='adam', loss='categorical_crossentropy', metrics=['accuracy'])\n",
        "cnn_utils.print_model_summary(model)\n"
      ]
    },
    {
      "cell_type": "code",
      "execution_count": null,
      "id": "78074c37",
      "metadata": {
        "colab": {
          "base_uri": "https://localhost:8080/"
        },
        "id": "78074c37",
        "outputId": "9244191b-9a9c-4218-8174-5471ff6b9ea8"
      },
      "outputs": [],
      "source": [
        "from keras.callbacks import EarlyStopping\n",
        "\n",
        "callbacks = [\n",
        "    EarlyStopping(monitor='val_loss', patience=10, restore_best_weights=True) #,\n",
        "]\n",
        "\n",
        "history = cnn_utils.train_model(model, data, augmentation=augmentation, callbacks=callbacks)\n"
      ]
    },
    {
      "cell_type": "markdown",
      "id": "dc8d5f42",
      "metadata": {
        "id": "dc8d5f42"
      },
      "source": [
        "### Let's show the evaluation result"
      ]
    },
    {
      "cell_type": "code",
      "execution_count": null,
      "id": "lOzRqysG9TB4",
      "metadata": {
        "colab": {
          "base_uri": "https://localhost:8080/",
          "height": 415
        },
        "id": "lOzRqysG9TB4",
        "outputId": "4151e7d1-efdc-4ad9-9ebe-00a36ce2d6eb"
      },
      "outputs": [],
      "source": [
        "cnn_utils.evaluate_model(model, data, history)"
      ]
    }
  ],
  "metadata": {
    "accelerator": "GPU",
    "colab": {
      "gpuType": "L4",
      "machine_shape": "hm",
      "provenance": []
    },
    "kernelspec": {
      "display_name": "base",
      "language": "python",
      "name": "python3"
    },
    "language_info": {
      "codemirror_mode": {
        "name": "ipython",
        "version": 3
      },
      "file_extension": ".py",
      "mimetype": "text/x-python",
      "name": "python",
      "nbconvert_exporter": "python",
      "pygments_lexer": "ipython3",
      "version": "3.12.2"
    }
  },
  "nbformat": 4,
  "nbformat_minor": 5
}
