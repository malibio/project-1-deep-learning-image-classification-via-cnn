{
  "cells": [
    {
      "cell_type": "markdown",
      "id": "d279c439",
      "metadata": {
        "id": "d279c439"
      },
      "source": [
        "### Import the CNN Util and libraries needed\n",
        "We have the util to make it easy to create and try new variations of the CNN model and be consistent with how we're analyzing and evaluating it."
      ]
    },
    {
      "cell_type": "code",
      "execution_count": null,
      "id": "5abe186c",
      "metadata": {
        "id": "5abe186c"
      },
      "outputs": [],
      "source": [
        "# Import necessary libraries\n",
        "import cnn_utils\n",
        "from keras import layers, models, optimizers, callbacks\n",
        "from keras.src.legacy.preprocessing.image import ImageDataGenerator\n",
        "from keras.applications import ResNet50, EfficientNetB0, VGG16\n",
        "from keras.applications.imagenet_utils import preprocess_input"
      ]
    },
    {
      "cell_type": "markdown",
      "id": "43599bbb",
      "metadata": {
        "id": "43599bbb"
      },
      "source": [
        "### Load the data"
      ]
    },
    {
      "cell_type": "code",
      "execution_count": null,
      "id": "a77831e4",
      "metadata": {
        "colab": {
          "base_uri": "https://localhost:8080/"
        },
        "id": "a77831e4",
        "outputId": "4936f885-e729-4606-c911-1c8734f1ace4"
      },
      "outputs": [],
      "source": [
        "data_dict = cnn_utils.load_cifar10_from_tar()"
      ]
    },
    {
      "cell_type": "markdown",
      "id": "05ba80d8",
      "metadata": {
        "id": "05ba80d8"
      },
      "source": [
        "### Preporcess the data"
      ]
    },
    {
      "cell_type": "code",
      "execution_count": null,
      "id": "1a5c3162",
      "metadata": {
        "colab": {
          "base_uri": "https://localhost:8080/"
        },
        "id": "1a5c3162",
        "outputId": "aedcdb1c-9113-4902-93f7-8b346fe73a56"
      },
      "outputs": [],
      "source": [
        "data = cnn_utils.preprocess_data(data_dict)"
      ]
    },
    {
      "cell_type": "markdown",
      "id": "69f8bb96",
      "metadata": {
        "id": "69f8bb96"
      },
      "source": [
        "### Let's do a quick visualization of sample images (to also ensure we still have the correct shape)"
      ]
    },
    {
      "cell_type": "code",
      "execution_count": null,
      "id": "3efbcbda",
      "metadata": {
        "colab": {
          "base_uri": "https://localhost:8080/",
          "height": 1000
        },
        "id": "3efbcbda",
        "outputId": "af138925-3680-4d27-d845-6780e402fa0f"
      },
      "outputs": [],
      "source": [
        "cnn_utils.visualize_data_samples(data)\n"
      ]
    },
    {
      "cell_type": "markdown",
      "id": "f3bae54d",
      "metadata": {},
      "source": [
        "### Data processing for Transfer Learning\n",
        "- Converts back to [0, 255]: Your data was normalized to [0, 1], but ImageNet pre-trained models expect the original [0, 255] pixel range\n",
        "- Applies ImageNet preprocessing: Uses preprocess_input() which applies model-specific normalization (e.g., ResNet uses different normalization than VGG)"
      ]
    },
    {
      "cell_type": "code",
      "execution_count": null,
      "id": "1236c979",
      "metadata": {},
      "outputs": [],
      "source": [
        "def preprocess_for_transfer_learning(data):\n",
        "    data['X_train'] = data['X_train'] * 255.0\n",
        "    data['X_val'] = data['X_val'] * 255.0\n",
        "    data['X_test'] = data['X_test'] * 255.0\n",
        "    \n",
        "    # Apply ImageNet preprocessing (model-specific normalization)\n",
        "    data['X_train'] = preprocess_input(data['X_train'])\n",
        "    data['X_val'] = preprocess_input(data['X_val'])\n",
        "    data['X_test'] = preprocess_input(data['X_test'])\n",
        "    \n",
        "    return data\n",
        "\n",
        "# Apply transfer learning preprocessing\n",
        "data = preprocess_for_transfer_learning(data)\n",
        "print(\"Data preprocessed for transfer learning\")"
      ]
    },
    {
      "cell_type": "markdown",
      "id": "c338efe8",
      "metadata": {
        "id": "c338efe8"
      },
      "source": [
        "### Data Augmentation\n",
        "\n",
        "Moderate geometric augmentation that applies realistic transformations to training images:\n",
        "- Rotation (±15°), shifting (10% in each direction), and zooming (±10%) simulate natural camera angle and distance variations\n",
        "- Horizontal flipping doubles the dataset by creating mirror images (works well for CIFAR-10 since objects like cars/planes look realistic when flipped)\n"
      ]
    },
    {
      "cell_type": "code",
      "execution_count": null,
      "id": "7df6db98",
      "metadata": {
        "id": "7df6db98"
      },
      "outputs": [],
      "source": [
        "def create_augmentation():\n",
        "    return ImageDataGenerator(\n",
        "        rotation_range=15,\n",
        "        width_shift_range=0.1,\n",
        "        height_shift_range=0.1,\n",
        "        horizontal_flip=True,\n",
        "        zoom_range=0.1\n",
        "    )\n",
        "\n",
        "augmentation = create_augmentation()\n",
        "augmentation.fit(data['X_train'])"
      ]
    },
    {
      "cell_type": "markdown",
      "id": "dee7839c",
      "metadata": {
        "id": "dee7839c"
      },
      "source": [
        "### Let's define our CNN model (architecture)\n",
        "Deeper, more sophisticated architecture for higher accuracy\n",
        "Structure:\n",
        "- 3 convolutional blocks (64→128→256 filters)\n",
        "- BatchNormalization after each conv layer\n",
        "- Progressive dropout (0.3→0.4→0.5)\n",
        "- Large dense layer (512 neurons)"
      ]
    },
    {
      "cell_type": "code",
      "execution_count": null,
      "id": "bd67c1c4",
      "metadata": {
        "id": "bd67c1c4"
      },
      "outputs": [],
      "source": []
    },
    {
      "cell_type": "markdown",
      "id": "e130d358",
      "metadata": {},
      "source": [
        "### Create transfer model"
      ]
    },
    {
      "cell_type": "code",
      "execution_count": null,
      "id": "8ab7001b",
      "metadata": {},
      "outputs": [],
      "source": [
        "def create_transfer_model(base_model_name='resnet50', num_classes=10):\n",
        "    \"\"\"\n",
        "    Create transfer learning model with frozen base and custom classifier\n",
        "    \"\"\"\n",
        "    # Choose base model\n",
        "    if base_model_name == 'resnet50':\n",
        "        base_model = ResNet50(weights='imagenet', include_top=False, input_shape=(32, 32, 3))\n",
        "    elif base_model_name == 'efficientnet':\n",
        "        base_model = EfficientNetB0(weights='imagenet', include_top=False, input_shape=(32, 32, 3))\n",
        "    elif base_model_name == 'vgg16':\n",
        "        base_model = VGG16(weights='imagenet', include_top=False, input_shape=(32, 32, 3))\n",
        "    \n",
        "    # Freeze the base model\n",
        "    base_model.trainable = False\n",
        "    \n",
        "    # Build the complete model\n",
        "    model = models.Sequential([\n",
        "        base_model,\n",
        "        layers.GlobalAveragePooling2D(),\n",
        "        layers.BatchNormalization(),\n",
        "        layers.Dropout(0.5),\n",
        "        layers.Dense(128, activation='relu'),\n",
        "        layers.BatchNormalization(), \n",
        "        layers.Dropout(0.3),\n",
        "        layers.Dense(num_classes, activation='softmax')\n",
        "    ])\n",
        "    \n",
        "    return model, base_model\n",
        "\n",
        "# Create the model\n",
        "model, base_model = create_transfer_model('resnet50')\n",
        "model.compile(optimizer='adam', loss='categorical_crossentropy', metrics=['accuracy'])\n",
        "\n",
        "cnn_utils.print_model_summary(model)"
      ]
    },
    {
      "cell_type": "markdown",
      "id": "e14f7818",
      "metadata": {
        "id": "e14f7818"
      },
      "source": [
        "### Phase 1 Training (Frozen Base)\n"
      ]
    },
    {
      "cell_type": "code",
      "execution_count": null,
      "id": "78074c37",
      "metadata": {
        "colab": {
          "base_uri": "https://localhost:8080/"
        },
        "id": "78074c37",
        "outputId": "2122c196-15c5-4bf0-ed90-1a5c3f71362c"
      },
      "outputs": [],
      "source": [
        "print(\"=== PHASE 1: Training classifier with frozen base ===\")\n",
        "# Train with frozen base model\n",
        "history_phase1 = cnn_utils.train_model(\n",
        "    model, \n",
        "    data, \n",
        "    augmentation=augmentation,\n",
        "    epochs=20,\n",
        "    batch_size=32\n",
        ")\n"
      ]
    },
    {
      "cell_type": "markdown",
      "id": "2b9f6af9",
      "metadata": {},
      "source": [
        "### Phase 2 Training (Fine-tuning)"
      ]
    },
    {
      "cell_type": "code",
      "execution_count": null,
      "id": "c4e71b87",
      "metadata": {},
      "outputs": [],
      "source": [
        "print(\"=== PHASE 2: Fine-tuning with unfrozen base ===\")\n",
        "\n",
        "# Unfreeze the base model for fine-tuning\n",
        "base_model.trainable = True\n",
        "\n",
        "# Recompile with lower learning rate for fine-tuning\n",
        "model.compile(\n",
        "    optimizer=optimizers.Adam(learning_rate=1e-5),  # Much lower learning rate\n",
        "    loss='categorical_crossentropy',\n",
        "    metrics=['accuracy']\n",
        ")\n",
        "\n",
        "# Continue training with fine-tuning\n",
        "history_phase2 = cnn_utils.train_model(\n",
        "    model,\n",
        "    data,\n",
        "    augmentation=augmentation,\n",
        "    epochs=30,\n",
        "    batch_size=32\n",
        ")"
      ]
    },
    {
      "cell_type": "markdown",
      "id": "5b49b6f7",
      "metadata": {},
      "source": [
        "### Combined History"
      ]
    },
    {
      "cell_type": "code",
      "execution_count": null,
      "id": "60008633",
      "metadata": {},
      "outputs": [],
      "source": [
        "# Combine training histories for complete visualization\n",
        "def combine_histories(hist1, hist2):\n",
        "    \"\"\"Combine two training histories\"\"\"\n",
        "    combined = {}\n",
        "    for key in hist1.history.keys():\n",
        "        combined[key] = hist1.history[key] + hist2.history[key]\n",
        "    \n",
        "    # Create a mock history object\n",
        "    class CombinedHistory:\n",
        "        def __init__(self, history_dict):\n",
        "            self.history = history_dict\n",
        "    \n",
        "    return CombinedHistory(combined)\n",
        "\n",
        "# Combine both training phases\n",
        "combined_history = combine_histories(history_phase1, history_phase2)"
      ]
    },
    {
      "cell_type": "markdown",
      "id": "01069617",
      "metadata": {
        "id": "01069617"
      },
      "source": [
        "### Let's show the evaluation result"
      ]
    },
    {
      "cell_type": "code",
      "execution_count": null,
      "id": "34a2a80e",
      "metadata": {
        "colab": {
          "base_uri": "https://localhost:8080/",
          "height": 1000
        },
        "id": "34a2a80e",
        "outputId": "892358f5-82b5-43a1-854e-4bcdc4a1aa3f"
      },
      "outputs": [],
      "source": [
        "cnn_utils.evaluate_model(model, data, combined_history)"
      ]
    }
  ],
  "metadata": {
    "accelerator": "GPU",
    "colab": {
      "gpuType": "L4",
      "machine_shape": "hm",
      "provenance": []
    },
    "kernelspec": {
      "display_name": "base",
      "language": "python",
      "name": "python3"
    },
    "language_info": {
      "codemirror_mode": {
        "name": "ipython",
        "version": 3
      },
      "file_extension": ".py",
      "mimetype": "text/x-python",
      "name": "python",
      "nbconvert_exporter": "python",
      "pygments_lexer": "ipython3",
      "version": "3.12.2"
    }
  },
  "nbformat": 4,
  "nbformat_minor": 5
}
